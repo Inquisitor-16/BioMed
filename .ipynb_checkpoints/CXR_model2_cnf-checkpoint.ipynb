{
 "cells": [
  {
   "cell_type": "code",
   "execution_count": 1,
   "metadata": {},
   "outputs": [],
   "source": [
    "from tensorflow.keras.preprocessing.image import ImageDataGenerator\n",
    "from tensorflow.keras.applications import VGG16\n",
    "from tensorflow.keras.layers import AveragePooling2D\n",
    "from tensorflow.keras.layers import Dropout\n",
    "from tensorflow.keras.layers import Flatten\n",
    "from tensorflow.keras.layers import Dense\n",
    "from tensorflow.keras.layers import Input\n",
    "from tensorflow.keras.models import Model\n",
    "from tensorflow.keras.optimizers import Adam\n",
    "from tensorflow.keras.utils import to_categorical\n",
    "from sklearn.preprocessing import LabelBinarizer\n",
    "from sklearn.model_selection import train_test_split\n",
    "from sklearn.metrics import classification_report\n",
    "from sklearn.metrics import confusion_matrix\n",
    "from imutils import paths\n",
    "import matplotlib.pyplot as plt\n",
    "import numpy as np\n",
    "import argparse\n",
    "import cv2\n",
    "import os"
   ]
  },
  {
   "cell_type": "code",
   "execution_count": 2,
   "metadata": {},
   "outputs": [],
   "source": [
    "# initialize the initial learning rate, number of epochs to train for,\n",
    "# and batch size\n",
    "\n",
    "INIT_LR = 1e-3\n",
    "EPOCHS = 75\n",
    "BS = 48"
   ]
  },
  {
   "cell_type": "code",
   "execution_count": 3,
   "metadata": {},
   "outputs": [],
   "source": [
    "# grab the list of images in our dataset directory, then initialize\n",
    "# the list of data (i.e., images) and class images\n",
    "\n",
    "imagePaths = list(paths.list_images(\"dataset_new_test\"))\n",
    "data = []\n",
    "labels = []\n"
   ]
  },
  {
   "cell_type": "code",
   "execution_count": 4,
   "metadata": {},
   "outputs": [],
   "source": [
    "# loop over the image paths\n",
    "for imagePath in imagePaths:\n",
    "    # extract the class label from the filename\n",
    "    label = imagePath.split(os.path.sep)[-2]\n",
    "\n",
    "    # load the image, swap color channels, and resize it to be a fixed\n",
    "    # 224x224 pixels while ignoring aspect ratio\n",
    "    image = cv2.imread(imagePath)\n",
    "    image = cv2.cvtColor(image, cv2.COLOR_BGR2RGB)\n",
    "    image = cv2.resize(image, (224, 224))\n",
    "\n",
    "    # update the data and labels lists, respectively\n",
    "    data.append(image)\n",
    "    labels.append(label)\n"
   ]
  },
  {
   "cell_type": "code",
   "execution_count": 5,
   "metadata": {},
   "outputs": [],
   "source": [
    "# convert the data and labels to NumPy arrays while scaling the pixel\n",
    "# intensities to the range [0, 255]\n",
    "data = np.array(data) / 255.0\n",
    "labels = np.array(labels)\n"
   ]
  },
  {
   "cell_type": "code",
   "execution_count": 6,
   "metadata": {},
   "outputs": [],
   "source": [
    "# perform one-hot encoding on the labels\n",
    "lb = LabelBinarizer()\n",
    "labels = lb.fit_transform(labels)\n",
    "labels = to_categorical(labels)\n"
   ]
  },
  {
   "cell_type": "code",
   "execution_count": 7,
   "metadata": {},
   "outputs": [],
   "source": [
    "# partition the data into training and testing splits using 60% of\n",
    "# the data for training and the remaining 40% for testing\n",
    "(trainX, testX, trainY, testY) = train_test_split(data, labels,\n",
    "    test_size=0.40, stratify=labels, random_state=42)\n"
   ]
  },
  {
   "cell_type": "code",
   "execution_count": 8,
   "metadata": {},
   "outputs": [],
   "source": [
    "# initialize the training data augmentation object\n",
    "trainAug = ImageDataGenerator(\n",
    "    rotation_range=15,\n",
    "    fill_mode=\"nearest\")"
   ]
  },
  {
   "cell_type": "code",
   "execution_count": 9,
   "metadata": {},
   "outputs": [],
   "source": [
    "# load the VGG16 network, ensuring the head FC layer sets are left\n",
    "# off\n",
    "baseModel = VGG16(weights=\"imagenet\", include_top=False,\n",
    "    input_tensor=Input(shape=(224, 224, 3)))\n"
   ]
  },
  {
   "cell_type": "code",
   "execution_count": 10,
   "metadata": {},
   "outputs": [],
   "source": [
    "# construct the head of the model that will be placed on top of the\n",
    "# the base model\n",
    "headModel = baseModel.output\n",
    "headModel = AveragePooling2D(pool_size=(4, 4))(headModel)\n",
    "headModel = Flatten(name=\"flatten\")(headModel)\n",
    "headModel = Dense(64, activation=\"relu\")(headModel)\n",
    "headModel = Dropout(0.5)(headModel)\n",
    "headModel = Dense(2, activation=\"softmax\")(headModel)\n"
   ]
  },
  {
   "cell_type": "code",
   "execution_count": 11,
   "metadata": {},
   "outputs": [],
   "source": [
    "# place the head FC model on top of the base model (this will become\n",
    "# the actual model we will train)\n",
    "model = Model(inputs=baseModel.input, outputs=headModel)\n",
    "\n",
    "# loop over all layers in the base model and freeze them so they will\n",
    "# *not* be updated during the first training process\n",
    "for layer in baseModel.layers:\n",
    "    layer.trainable = False"
   ]
  },
  {
   "cell_type": "code",
   "execution_count": 12,
   "metadata": {},
   "outputs": [
    {
     "name": "stdout",
     "output_type": "stream",
     "text": [
      "Model: \"functional_1\"\n",
      "_________________________________________________________________\n",
      "Layer (type)                 Output Shape              Param #   \n",
      "=================================================================\n",
      "input_1 (InputLayer)         [(None, 224, 224, 3)]     0         \n",
      "_________________________________________________________________\n",
      "block1_conv1 (Conv2D)        (None, 224, 224, 64)      1792      \n",
      "_________________________________________________________________\n",
      "block1_conv2 (Conv2D)        (None, 224, 224, 64)      36928     \n",
      "_________________________________________________________________\n",
      "block1_pool (MaxPooling2D)   (None, 112, 112, 64)      0         \n",
      "_________________________________________________________________\n",
      "block2_conv1 (Conv2D)        (None, 112, 112, 128)     73856     \n",
      "_________________________________________________________________\n",
      "block2_conv2 (Conv2D)        (None, 112, 112, 128)     147584    \n",
      "_________________________________________________________________\n",
      "block2_pool (MaxPooling2D)   (None, 56, 56, 128)       0         \n",
      "_________________________________________________________________\n",
      "block3_conv1 (Conv2D)        (None, 56, 56, 256)       295168    \n",
      "_________________________________________________________________\n",
      "block3_conv2 (Conv2D)        (None, 56, 56, 256)       590080    \n",
      "_________________________________________________________________\n",
      "block3_conv3 (Conv2D)        (None, 56, 56, 256)       590080    \n",
      "_________________________________________________________________\n",
      "block3_pool (MaxPooling2D)   (None, 28, 28, 256)       0         \n",
      "_________________________________________________________________\n",
      "block4_conv1 (Conv2D)        (None, 28, 28, 512)       1180160   \n",
      "_________________________________________________________________\n",
      "block4_conv2 (Conv2D)        (None, 28, 28, 512)       2359808   \n",
      "_________________________________________________________________\n",
      "block4_conv3 (Conv2D)        (None, 28, 28, 512)       2359808   \n",
      "_________________________________________________________________\n",
      "block4_pool (MaxPooling2D)   (None, 14, 14, 512)       0         \n",
      "_________________________________________________________________\n",
      "block5_conv1 (Conv2D)        (None, 14, 14, 512)       2359808   \n",
      "_________________________________________________________________\n",
      "block5_conv2 (Conv2D)        (None, 14, 14, 512)       2359808   \n",
      "_________________________________________________________________\n",
      "block5_conv3 (Conv2D)        (None, 14, 14, 512)       2359808   \n",
      "_________________________________________________________________\n",
      "block5_pool (MaxPooling2D)   (None, 7, 7, 512)         0         \n",
      "_________________________________________________________________\n",
      "average_pooling2d (AveragePo (None, 1, 1, 512)         0         \n",
      "_________________________________________________________________\n",
      "flatten (Flatten)            (None, 512)               0         \n",
      "_________________________________________________________________\n",
      "dense (Dense)                (None, 64)                32832     \n",
      "_________________________________________________________________\n",
      "dropout (Dropout)            (None, 64)                0         \n",
      "_________________________________________________________________\n",
      "dense_1 (Dense)              (None, 2)                 130       \n",
      "=================================================================\n",
      "Total params: 14,747,650\n",
      "Trainable params: 32,962\n",
      "Non-trainable params: 14,714,688\n",
      "_________________________________________________________________\n"
     ]
    }
   ],
   "source": [
    "# compile our model\n",
    "opt = Adam(lr=INIT_LR, decay=INIT_LR / EPOCHS)\n",
    "model.compile(loss=\"binary_crossentropy\", optimizer=opt,\n",
    "    metrics=[\"accuracy\"])\n",
    "model.summary()"
   ]
  },
  {
   "cell_type": "code",
   "execution_count": 13,
   "metadata": {},
   "outputs": [
    {
     "name": "stdout",
     "output_type": "stream",
     "text": [
      "WARNING:tensorflow:From <ipython-input-13-9e1c381394de>:3: Model.fit_generator (from tensorflow.python.keras.engine.training) is deprecated and will be removed in a future version.\n",
      "Instructions for updating:\n",
      "Please use Model.fit, which supports generators.\n",
      "Epoch 1/75\n",
      "6/6 [==============================] - 75s 13s/step - loss: 0.8005 - accuracy: 0.5560 - val_loss: 0.6070 - val_accuracy: 0.6068\n",
      "Epoch 2/75\n",
      "6/6 [==============================] - 83s 14s/step - loss: 0.6707 - accuracy: 0.5972 - val_loss: 0.5347 - val_accuracy: 0.8252\n",
      "Epoch 3/75\n",
      "6/6 [==============================] - 75s 12s/step - loss: 0.5872 - accuracy: 0.6834 - val_loss: 0.4711 - val_accuracy: 0.8495\n",
      "Epoch 4/75\n",
      "6/6 [==============================] - 76s 13s/step - loss: 0.4717 - accuracy: 0.7876 - val_loss: 0.4240 - val_accuracy: 0.8495\n",
      "Epoch 5/75\n",
      "6/6 [==============================] - 74s 12s/step - loss: 0.4029 - accuracy: 0.8378 - val_loss: 0.3705 - val_accuracy: 0.9320\n",
      "Epoch 6/75\n",
      "6/6 [==============================] - 77s 13s/step - loss: 0.3868 - accuracy: 0.8785 - val_loss: 0.3351 - val_accuracy: 0.9515\n",
      "Epoch 7/75\n",
      "6/6 [==============================] - 75s 12s/step - loss: 0.3409 - accuracy: 0.9035 - val_loss: 0.2987 - val_accuracy: 0.9417\n",
      "Epoch 8/75\n",
      "6/6 [==============================] - 72s 12s/step - loss: 0.2745 - accuracy: 0.9344 - val_loss: 0.2711 - val_accuracy: 0.9417\n",
      "Epoch 9/75\n",
      "6/6 [==============================] - 90s 15s/step - loss: 0.2657 - accuracy: 0.9266 - val_loss: 0.2452 - val_accuracy: 0.9515\n",
      "Epoch 10/75\n",
      "6/6 [==============================] - 85s 14s/step - loss: 0.2420 - accuracy: 0.9305 - val_loss: 0.2245 - val_accuracy: 0.9563\n",
      "Epoch 11/75\n",
      "6/6 [==============================] - 78s 13s/step - loss: 0.2440 - accuracy: 0.9382 - val_loss: 0.2077 - val_accuracy: 0.9563\n",
      "Epoch 12/75\n",
      "6/6 [==============================] - 83s 14s/step - loss: 0.2197 - accuracy: 0.9382 - val_loss: 0.1938 - val_accuracy: 0.9563\n",
      "Epoch 13/75\n",
      "6/6 [==============================] - 76s 13s/step - loss: 0.2116 - accuracy: 0.9189 - val_loss: 0.1894 - val_accuracy: 0.9612\n",
      "Epoch 14/75\n",
      "6/6 [==============================] - 80s 13s/step - loss: 0.2040 - accuracy: 0.9266 - val_loss: 0.1777 - val_accuracy: 0.9612\n",
      "Epoch 15/75\n",
      "6/6 [==============================] - 83s 14s/step - loss: 0.1992 - accuracy: 0.9498 - val_loss: 0.1704 - val_accuracy: 0.9660\n",
      "Epoch 16/75\n",
      "6/6 [==============================] - 86s 14s/step - loss: 0.1508 - accuracy: 0.9653 - val_loss: 0.1562 - val_accuracy: 0.9563\n",
      "Epoch 17/75\n",
      "6/6 [==============================] - 86s 14s/step - loss: 0.1804 - accuracy: 0.9459 - val_loss: 0.1477 - val_accuracy: 0.9563\n",
      "Epoch 18/75\n",
      "6/6 [==============================] - 90s 15s/step - loss: 0.1640 - accuracy: 0.9479 - val_loss: 0.1408 - val_accuracy: 0.9660\n",
      "Epoch 19/75\n",
      "6/6 [==============================] - 81s 13s/step - loss: 0.1580 - accuracy: 0.9498 - val_loss: 0.1354 - val_accuracy: 0.9612\n",
      "Epoch 20/75\n",
      "6/6 [==============================] - 72s 12s/step - loss: 0.1526 - accuracy: 0.9537 - val_loss: 0.1302 - val_accuracy: 0.9612\n",
      "Epoch 21/75\n",
      "6/6 [==============================] - 75s 13s/step - loss: 0.1436 - accuracy: 0.9421 - val_loss: 0.1252 - val_accuracy: 0.9660\n",
      "Epoch 22/75\n",
      "6/6 [==============================] - 74s 12s/step - loss: 0.1383 - accuracy: 0.9537 - val_loss: 0.1249 - val_accuracy: 0.9757\n",
      "Epoch 23/75\n",
      "6/6 [==============================] - 76s 13s/step - loss: 0.1347 - accuracy: 0.9514 - val_loss: 0.1180 - val_accuracy: 0.9709\n",
      "Epoch 24/75\n",
      "6/6 [==============================] - 72s 12s/step - loss: 0.1284 - accuracy: 0.9575 - val_loss: 0.1160 - val_accuracy: 0.9612\n",
      "Epoch 25/75\n",
      "6/6 [==============================] - 75s 13s/step - loss: 0.1188 - accuracy: 0.9614 - val_loss: 0.1114 - val_accuracy: 0.9612\n",
      "Epoch 26/75\n",
      "6/6 [==============================] - 74s 12s/step - loss: 0.1213 - accuracy: 0.9653 - val_loss: 0.1110 - val_accuracy: 0.9757\n",
      "Epoch 27/75\n",
      "6/6 [==============================] - 75s 12s/step - loss: 0.1187 - accuracy: 0.9768 - val_loss: 0.1050 - val_accuracy: 0.9612\n",
      "Epoch 28/75\n",
      "6/6 [==============================] - 74s 12s/step - loss: 0.1145 - accuracy: 0.9653 - val_loss: 0.1103 - val_accuracy: 0.9612\n",
      "Epoch 29/75\n",
      "6/6 [==============================] - 77s 13s/step - loss: 0.1071 - accuracy: 0.9691 - val_loss: 0.1025 - val_accuracy: 0.9612\n",
      "Epoch 30/75\n",
      "6/6 [==============================] - 72s 12s/step - loss: 0.1188 - accuracy: 0.9614 - val_loss: 0.1009 - val_accuracy: 0.9757\n",
      "Epoch 31/75\n",
      "6/6 [==============================] - 70s 12s/step - loss: 0.0918 - accuracy: 0.9807 - val_loss: 0.0956 - val_accuracy: 0.9660\n",
      "Epoch 32/75\n",
      "6/6 [==============================] - 84s 14s/step - loss: 0.0930 - accuracy: 0.9807 - val_loss: 0.0940 - val_accuracy: 0.9660\n",
      "Epoch 33/75\n",
      "6/6 [==============================] - 98s 16s/step - loss: 0.0953 - accuracy: 0.9688 - val_loss: 0.0919 - val_accuracy: 0.9757\n",
      "Epoch 34/75\n",
      "6/6 [==============================] - 119s 20s/step - loss: 0.0842 - accuracy: 0.9730 - val_loss: 0.0896 - val_accuracy: 0.9709\n",
      "Epoch 35/75\n",
      "6/6 [==============================] - 108s 18s/step - loss: 0.0989 - accuracy: 0.9768 - val_loss: 0.0883 - val_accuracy: 0.9660\n",
      "Epoch 36/75\n",
      "6/6 [==============================] - 136s 23s/step - loss: 0.0959 - accuracy: 0.9691 - val_loss: 0.0900 - val_accuracy: 0.9660\n",
      "Epoch 37/75\n",
      "6/6 [==============================] - 114s 19s/step - loss: 0.0796 - accuracy: 0.9846 - val_loss: 0.0866 - val_accuracy: 0.9660\n",
      "Epoch 38/75\n",
      "6/6 [==============================] - 79s 13s/step - loss: 0.0896 - accuracy: 0.9730 - val_loss: 0.0871 - val_accuracy: 0.9806\n",
      "Epoch 39/75\n",
      "6/6 [==============================] - 82s 14s/step - loss: 0.0831 - accuracy: 0.9807 - val_loss: 0.0844 - val_accuracy: 0.9709\n",
      "Epoch 40/75\n",
      "6/6 [==============================] - 78s 13s/step - loss: 0.0756 - accuracy: 0.9807 - val_loss: 0.0847 - val_accuracy: 0.9660\n",
      "Epoch 41/75\n",
      "6/6 [==============================] - 74s 12s/step - loss: 0.0739 - accuracy: 0.9846 - val_loss: 0.0823 - val_accuracy: 0.9709\n",
      "Epoch 42/75\n",
      "6/6 [==============================] - 73s 12s/step - loss: 0.0671 - accuracy: 0.9807 - val_loss: 0.0845 - val_accuracy: 0.9757\n",
      "Epoch 43/75\n",
      "6/6 [==============================] - 76s 13s/step - loss: 0.0765 - accuracy: 0.9653 - val_loss: 0.0830 - val_accuracy: 0.9757\n",
      "Epoch 44/75\n",
      "6/6 [==============================] - 70s 12s/step - loss: 0.0783 - accuracy: 0.9653 - val_loss: 0.0797 - val_accuracy: 0.9709\n",
      "Epoch 45/75\n",
      "6/6 [==============================] - 72s 12s/step - loss: 0.0785 - accuracy: 0.9768 - val_loss: 0.0812 - val_accuracy: 0.9660\n",
      "Epoch 46/75\n",
      "6/6 [==============================] - 69s 12s/step - loss: 0.0748 - accuracy: 0.9923 - val_loss: 0.0826 - val_accuracy: 0.9660\n",
      "Epoch 47/75\n",
      "6/6 [==============================] - 70s 12s/step - loss: 0.0668 - accuracy: 0.9846 - val_loss: 0.0807 - val_accuracy: 0.9660\n",
      "Epoch 48/75\n",
      "6/6 [==============================] - 79s 13s/step - loss: 0.0610 - accuracy: 0.9846 - val_loss: 0.0819 - val_accuracy: 0.9660\n",
      "Epoch 49/75\n",
      "6/6 [==============================] - 76s 13s/step - loss: 0.0734 - accuracy: 0.9730 - val_loss: 0.0763 - val_accuracy: 0.9806\n",
      "Epoch 50/75\n",
      "6/6 [==============================] - 74s 12s/step - loss: 0.0600 - accuracy: 0.9768 - val_loss: 0.0758 - val_accuracy: 0.9806\n",
      "Epoch 51/75\n",
      "6/6 [==============================] - 80s 13s/step - loss: 0.0629 - accuracy: 0.9884 - val_loss: 0.0827 - val_accuracy: 0.9660\n",
      "Epoch 52/75\n",
      "6/6 [==============================] - 71s 12s/step - loss: 0.0805 - accuracy: 0.9730 - val_loss: 0.0781 - val_accuracy: 0.9660\n",
      "Epoch 53/75\n",
      "6/6 [==============================] - 72s 12s/step - loss: 0.0814 - accuracy: 0.9768 - val_loss: 0.0761 - val_accuracy: 0.9757\n",
      "Epoch 54/75\n",
      "6/6 [==============================] - 78s 13s/step - loss: 0.0616 - accuracy: 0.9826 - val_loss: 0.0740 - val_accuracy: 0.9806\n",
      "Epoch 55/75\n",
      "6/6 [==============================] - 71s 12s/step - loss: 0.0760 - accuracy: 0.9691 - val_loss: 0.0747 - val_accuracy: 0.9660\n",
      "Epoch 56/75\n",
      "6/6 [==============================] - 73s 12s/step - loss: 0.0656 - accuracy: 0.9807 - val_loss: 0.0751 - val_accuracy: 0.9660\n",
      "Epoch 57/75\n",
      "6/6 [==============================] - 73s 12s/step - loss: 0.0524 - accuracy: 0.9846 - val_loss: 0.0722 - val_accuracy: 0.9757\n"
     ]
    },
    {
     "name": "stdout",
     "output_type": "stream",
     "text": [
      "Epoch 58/75\n",
      "6/6 [==============================] - 79s 13s/step - loss: 0.0638 - accuracy: 0.9807 - val_loss: 0.0717 - val_accuracy: 0.9757\n",
      "Epoch 59/75\n",
      "6/6 [==============================] - 72s 12s/step - loss: 0.0548 - accuracy: 0.9807 - val_loss: 0.0720 - val_accuracy: 0.9757\n",
      "Epoch 60/75\n",
      "6/6 [==============================] - 73s 12s/step - loss: 0.0661 - accuracy: 0.9884 - val_loss: 0.0710 - val_accuracy: 0.9709\n",
      "Epoch 61/75\n",
      "6/6 [==============================] - 75s 13s/step - loss: 0.0504 - accuracy: 0.9846 - val_loss: 0.0729 - val_accuracy: 0.9660\n",
      "Epoch 62/75\n",
      "6/6 [==============================] - 77s 13s/step - loss: 0.0672 - accuracy: 0.9861 - val_loss: 0.0706 - val_accuracy: 0.9757\n",
      "Epoch 63/75\n",
      "6/6 [==============================] - 73s 12s/step - loss: 0.0526 - accuracy: 0.9807 - val_loss: 0.0705 - val_accuracy: 0.9757\n",
      "Epoch 64/75\n",
      "6/6 [==============================] - 74s 12s/step - loss: 0.0585 - accuracy: 0.9768 - val_loss: 0.0710 - val_accuracy: 0.9757\n",
      "Epoch 65/75\n",
      "6/6 [==============================] - 73s 12s/step - loss: 0.0440 - accuracy: 0.9846 - val_loss: 0.0702 - val_accuracy: 0.9709\n",
      "Epoch 66/75\n",
      "6/6 [==============================] - 80s 13s/step - loss: 0.0572 - accuracy: 0.9792 - val_loss: 0.0718 - val_accuracy: 0.9709\n",
      "Epoch 67/75\n",
      "6/6 [==============================] - 73s 12s/step - loss: 0.0482 - accuracy: 0.9807 - val_loss: 0.0725 - val_accuracy: 0.9709\n",
      "Epoch 68/75\n",
      "6/6 [==============================] - 72s 12s/step - loss: 0.0519 - accuracy: 0.9768 - val_loss: 0.0708 - val_accuracy: 0.9709\n",
      "Epoch 69/75\n",
      "6/6 [==============================] - 67s 11s/step - loss: 0.0433 - accuracy: 0.9846 - val_loss: 0.0727 - val_accuracy: 0.9709\n",
      "Epoch 70/75\n",
      "6/6 [==============================] - 75s 13s/step - loss: 0.0429 - accuracy: 0.9923 - val_loss: 0.0695 - val_accuracy: 0.9757\n",
      "Epoch 71/75\n",
      "6/6 [==============================] - 74s 12s/step - loss: 0.0405 - accuracy: 0.9923 - val_loss: 0.0700 - val_accuracy: 0.9757\n",
      "Epoch 72/75\n",
      "6/6 [==============================] - 78s 13s/step - loss: 0.0353 - accuracy: 0.9961 - val_loss: 0.0698 - val_accuracy: 0.9709\n",
      "Epoch 73/75\n",
      "6/6 [==============================] - 83s 14s/step - loss: 0.0369 - accuracy: 0.9923 - val_loss: 0.0693 - val_accuracy: 0.9757\n",
      "Epoch 74/75\n",
      "6/6 [==============================] - 83s 14s/step - loss: 0.0400 - accuracy: 0.9884 - val_loss: 0.0691 - val_accuracy: 0.9757\n",
      "Epoch 75/75\n",
      "6/6 [==============================] - 75s 12s/step - loss: 0.0389 - accuracy: 0.9846 - val_loss: 0.0694 - val_accuracy: 0.9757\n"
     ]
    }
   ],
   "source": [
    "# train the head of the network\n",
    "\n",
    "H = model.fit_generator(\n",
    "    trainAug.flow(trainX, trainY, batch_size=BS),\n",
    "    steps_per_epoch=len(trainX) // BS,\n",
    "    validation_data=(testX, testY),\n",
    "    validation_steps=len(testX) // BS,\n",
    "    epochs=EPOCHS)\n"
   ]
  },
  {
   "cell_type": "code",
   "execution_count": 14,
   "metadata": {},
   "outputs": [],
   "source": [
    "# make predictions on the testing set\n",
    "\n",
    "predIdxs = model.predict(testX, batch_size=BS)\n"
   ]
  },
  {
   "cell_type": "code",
   "execution_count": 15,
   "metadata": {},
   "outputs": [],
   "source": [
    "# for each image in the testing set we need to find the index of the\n",
    "# label with corresponding largest predicted probability\n",
    "predIdxs = np.argmax(predIdxs, axis=1)"
   ]
  },
  {
   "cell_type": "code",
   "execution_count": 16,
   "metadata": {},
   "outputs": [
    {
     "name": "stdout",
     "output_type": "stream",
     "text": [
      "              precision    recall  f1-score   support\n",
      "\n",
      "       covid       0.98      0.96      0.97        83\n",
      "      normal       0.98      0.98      0.98       123\n",
      "\n",
      "    accuracy                           0.98       206\n",
      "   macro avg       0.98      0.97      0.97       206\n",
      "weighted avg       0.98      0.98      0.98       206\n",
      "\n"
     ]
    }
   ],
   "source": [
    "# show a nicely formatted classification report\n",
    "print(classification_report(testY.argmax(axis=1), predIdxs,\n",
    "    target_names=lb.classes_))"
   ]
  },
  {
   "cell_type": "code",
   "execution_count": 21,
   "metadata": {
    "scrolled": true
   },
   "outputs": [
    {
     "data": {
      "image/png": "[encoded data removed]",
      "text/plain": [
       "<Figure size 288x288 with 2 Axes>"
      ]
     },
     "metadata": {},
     "output_type": "display_data"
    }
   ],
   "source": [
    "# compute the confusion matrix and and use it to derive the raw\n",
    "# accuracy, sensitivity, and specificity\n",
    "cm = confusion_matrix(testY.argmax(axis=1), predIdxs)\n",
    "total = sum(sum(cm))\n",
    "acc = (cm[0, 0] + cm[1, 1]) / total\n",
    "sensitivity = cm[0, 0] / (cm[0, 0] + cm[0, 1])\n",
    "specificity = cm[1, 1] / (cm[1, 0] + cm[1, 1])\n",
    "\n",
    "plt.matshow(cm)\n",
    "plt.title('Confusion Matrix Plot')\n",
    "plt.colorbar()\n",
    "plt.xlabel('Predicted')\n",
    "plt.ylabel('Actual')\n",
    "plt.show();\n"
   ]
  },
  {
   "cell_type": "code",
   "execution_count": 18,
   "metadata": {},
   "outputs": [
    {
     "name": "stdout",
     "output_type": "stream",
     "text": [
      "[[ 80   3]\n",
      " [  2 121]]\n",
      "acc: 0.9757\n",
      "sensitivity: 0.9639\n",
      "specificity: 0.9837\n"
     ]
    }
   ],
   "source": [
    "# show the confusion matrix, accuracy, sensitivity, and specificity\n",
    "print(cm)\n",
    "print(\"acc: {:.4f}\".format(acc))\n",
    "print(\"sensitivity: {:.4f}\".format(sensitivity))\n",
    "print(\"specificity: {:.4f}\".format(specificity))\n"
   ]
  },
  {
   "cell_type": "code",
   "execution_count": 19,
   "metadata": {},
   "outputs": [
    {
     "data": {
      "image/png": "[encoded data removed]",
      "text/plain": [
       "<Figure size 432x288 with 1 Axes>"
      ]
     },
     "metadata": {},
     "output_type": "display_data"
    },
    {
     "data": {
      "text/plain": [
       "<function matplotlib.pyplot.show(close=None, block=None)>"
      ]
     },
     "execution_count": 19,
     "metadata": {},
     "output_type": "execute_result"
    },
    {
     "data": {
      "image/png": "[encoded data removed]",
      "text/plain": [
       "<Figure size 432x288 with 1 Axes>"
      ]
     },
     "metadata": {},
     "output_type": "display_data"
    }
   ],
   "source": [
    "# plot the training loss and accuracy\n",
    "N = EPOCHS\n",
    "\n",
    "plt.style.use(\"ggplot\")\n",
    "plt.figure()\n",
    "plt.plot(np.arange(0, N), H.history[\"accuracy\"], label=\"train_acc\")\n",
    "plt.plot(np.arange(0, N), H.history[\"val_accuracy\"], label=\"val_acc\")\n",
    "plt.title(\"MODEL ACCURACY\")\n",
    "plt.xlabel(\"Epoch #\")\n",
    "plt.ylabel(\"Accuracy\")\n",
    "plt.legend(loc=\"lower left\")\n",
    "plt.show()\n",
    "\n",
    "plt.style.use(\"ggplot\")\n",
    "plt.figure()\n",
    "plt.plot(np.arange(0, N), H.history[\"loss\"], label=\"train_loss\")\n",
    "plt.plot(np.arange(0, N), H.history[\"val_loss\"], label=\"val_loss\")\n",
    "plt.title(\"MODEL LOSS\")\n",
    "plt.xlabel(\"Epoch #\")\n",
    "plt.ylabel(\"Loss\")\n",
    "plt.legend(loc=\"lower left\")\n",
    "plt.show\n"
   ]
  },
  {
   "cell_type": "code",
   "execution_count": 23,
   "metadata": {},
   "outputs": [
    {
     "name": "stdout",
     "output_type": "stream",
     "text": [
      "dict_keys(['loss', 'accuracy', 'val_loss', 'val_accuracy'])\n"
     ]
    }
   ],
   "source": [
    "\n",
    "history_dict = H.history\n",
    "print(history_dict.keys())"
   ]
  },
  {
   "cell_type": "code",
   "execution_count": null,
   "metadata": {},
   "outputs": [],
   "source": []
  }
 ],
 "metadata": {
  "kernelspec": {
   "display_name": "Python 3",
   "language": "python",
   "name": "python3"
  },
  "language_info": {
   "codemirror_mode": {
    "name": "ipython",
    "version": 3
   },
   "file_extension": ".py",
   "mimetype": "text/x-python",
   "name": "python",
   "nbconvert_exporter": "python",
   "pygments_lexer": "ipython3",
   "version": "3.8.2"
  }
 },
 "nbformat": 4,
 "nbformat_minor": 4
}
